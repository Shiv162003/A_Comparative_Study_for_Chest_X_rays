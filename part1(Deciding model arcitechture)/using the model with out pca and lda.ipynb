{
 "cells": [
  {
   "cell_type": "code",
   "execution_count": 1,
   "id": "131abe83",
   "metadata": {},
   "outputs": [],
   "source": [
    "import numpy as np\n",
    "import tensorflow as tf\n",
    "from tensorflow.keras.preprocessing import image\n",
    "\n",
    "# Load the saved model\n",
    "model = tf.keras.models.load_model('C:\\\\Users\\\\ASUS\\\\Desktop\\\\uml project')\n",
    "\n",
    "\n",
    "\n"
   ]
  },
  {
   "cell_type": "code",
   "execution_count": 2,
   "id": "12808ecf",
   "metadata": {},
   "outputs": [
    {
     "name": "stdout",
     "output_type": "stream",
     "text": [
      "Enter the file path of the chest X-ray image: Normal/Normal-1.png\n"
     ]
    }
   ],
   "source": [
    "# Define the class labels\n",
    "class_labels = ['normal', 'tuberculosis']\n",
    "\n",
    "# Take input image file path from user\n",
    "img_path = input('Enter the file path of the chest X-ray image: ')"
   ]
  },
  {
   "cell_type": "code",
   "execution_count": 3,
   "id": "3d6b0e20",
   "metadata": {},
   "outputs": [],
   "source": [
    "img=image.load_img(\"C:\\\\Users\\\\ASUS\\\\Desktop\\\\Tuberculosis-672.png\")\n",
    "img = img.resize((224, 224))"
   ]
  },
  {
   "cell_type": "code",
   "execution_count": 4,
   "id": "511a88cd",
   "metadata": {},
   "outputs": [
    {
     "name": "stdout",
     "output_type": "stream",
     "text": [
      "1/1 [==============================] - 0s 384ms/step\n",
      "The input chest X-ray image is predicted to be: normal\n"
     ]
    }
   ],
   "source": [
    "\n",
    "x = image.img_to_array(img)\n",
    "x = np.expand_dims(x, axis=0)\n",
    "x = x/255.0   # normalize the pixel values\n",
    "\n",
    "# Make a prediction on the input image\n",
    "pred = model.predict(x)\n",
    "\n",
    "# Get the predicted class label\n",
    "class_idx = np.argmax(pred)\n",
    "class_label = class_labels[class_idx]\n",
    "\n",
    "# Print the predicted class label\n",
    "print('The input chest X-ray image is predicted to be:', class_label)"
   ]
  },
  {
   "cell_type": "code",
   "execution_count": null,
   "id": "7b170689",
   "metadata": {},
   "outputs": [],
   "source": [
    "import numpy as np\n",
    "import tensorflow as tf\n",
    "from tensorflow.keras.preprocessing import image\n",
    "\n",
    "# Load the saved model\n",
    "model = tf.keras.models.load_model('C:\\\\Users\\\\ASUS\\\\Desktop\\\\uml project')\n",
    "# Define the class labels\n",
    "class_labels = ['normal', 'tuberculosis']\n",
    "\n",
    "# Take input image file path from user\n",
    "\n",
    "img=image.load_img(\"C:\\\\Users\\\\ASUS\\\\Desktop\\\\Tuberculosis-672.png\")\n",
    "img = img.resize((224, 224))\n",
    "\n",
    "x = image.img_to_array(img)\n",
    "x = np.expand_dims(x, axis=0)\n",
    "x = x/255.0   # normalize the pixel values\n",
    "\n",
    "# Make a prediction on the input image\n",
    "pred = model.predict(x)\n",
    "\n",
    "# Get the predicted class label\n",
    "class_idx = np.argmax(pred)\n",
    "class_label = class_labels[class_idx]\n",
    "\n",
    "# Print the predicted class label\n",
    "print('The input chest X-ray image is predicted to be:', class_label)"
   ]
  }
 ],
 "metadata": {
  "kernelspec": {
   "display_name": "Python 3 (ipykernel)",
   "language": "python",
   "name": "python3"
  },
  "language_info": {
   "codemirror_mode": {
    "name": "ipython",
    "version": 3
   },
   "file_extension": ".py",
   "mimetype": "text/x-python",
   "name": "python",
   "nbconvert_exporter": "python",
   "pygments_lexer": "ipython3",
   "version": "3.9.13"
  }
 },
 "nbformat": 4,
 "nbformat_minor": 5
}

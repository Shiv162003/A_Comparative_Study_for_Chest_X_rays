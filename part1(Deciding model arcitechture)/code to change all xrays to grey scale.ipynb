{
 "cells": [
  {
   "cell_type": "code",
   "execution_count": 3,
   "id": "a47b5150",
   "metadata": {},
   "outputs": [],
   "source": [
    "import cv2\n",
    "import os\n",
    "\n",
    "# Specify the path where your images are stored\n",
    "path =\"C:\\\\Users\\\\ASUS\\\\Desktop\\\\uml project\\\\Normal\"\n",
    "\n",
    "# Loop through each image file in the folder\n",
    "for filename in os.listdir(path):\n",
    "    if filename.endswith(\".jpg\") or filename.endswith(\".png\") or filename.endswith(\".jpeg\"):\n",
    "        \n",
    "        # Read the image using OpenCV\n",
    "        img = cv2.imread(os.path.join(path, filename))\n",
    "        \n",
    "        # Convert the image to grayscale using cvtColor function\n",
    "        gray = cv2.cvtColor(img, cv2.COLOR_BGR2GRAY)\n",
    "        \n",
    "        # Save the grayscale image with the same name in the same folder\n",
    "        cv2.imwrite(os.path.join(path, filename), gray)"
   ]
  },
  {
   "cell_type": "code",
   "execution_count": 4,
   "id": "c6ec9e30",
   "metadata": {},
   "outputs": [],
   "source": [
    "import cv2\n",
    "import os\n",
    "\n",
    "# Specify the path where your images are stored\n",
    "path =\"C:\\\\Users\\\\ASUS\\\\Desktop\\\\uml project\\\\Tuberculosis\"\n",
    "\n",
    "# Loop through each image file in the folder\n",
    "for filename in os.listdir(path):\n",
    "    if filename.endswith(\".jpg\") or filename.endswith(\".png\") or filename.endswith(\".jpeg\"):\n",
    "        \n",
    "        # Read the image using OpenCV\n",
    "        img = cv2.imread(os.path.join(path, filename))\n",
    "        \n",
    "        # Convert the image to grayscale using cvtColor function\n",
    "        gray = cv2.cvtColor(img, cv2.COLOR_BGR2GRAY)\n",
    "        \n",
    "        # Save the grayscale image with the same name in the same folder\n",
    "        cv2.imwrite(os.path.join(path, filename), gray)"
   ]
  },
  {
   "cell_type": "code",
   "execution_count": null,
   "id": "02341ae6",
   "metadata": {},
   "outputs": [],
   "source": []
  }
 ],
 "metadata": {
  "kernelspec": {
   "display_name": "Python 3 (ipykernel)",
   "language": "python",
   "name": "python3"
  },
  "language_info": {
   "codemirror_mode": {
    "name": "ipython",
    "version": 3
   },
   "file_extension": ".py",
   "mimetype": "text/x-python",
   "name": "python",
   "nbconvert_exporter": "python",
   "pygments_lexer": "ipython3",
   "version": "3.9.13"
  }
 },
 "nbformat": 4,
 "nbformat_minor": 5
}

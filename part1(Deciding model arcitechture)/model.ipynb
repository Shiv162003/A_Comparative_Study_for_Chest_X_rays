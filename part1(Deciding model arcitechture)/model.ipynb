{
 "cells": [
  {
   "cell_type": "code",
   "execution_count": 1,
   "id": "ebd17e8b",
   "metadata": {},
   "outputs": [],
   "source": [
    "import os\n",
    "import numpy as np\n",
    "import tensorflow as tf\n",
    "from tensorflow.keras.preprocessing.image import ImageDataGenerator\n",
    "from tensorflow.keras.layers import Conv2D, MaxPooling2D, Flatten, Dense, Dropout\n",
    "from tensorflow.keras.models import Sequential\n",
    "from tensorflow.keras.callbacks import ModelCheckpoint"
   ]
  },
  {
   "cell_type": "code",
   "execution_count": 2,
   "id": "931beeed",
   "metadata": {},
   "outputs": [],
   "source": [
    "# Set up the directories for the data\n",
    "train_dir = 'C:\\\\Users\\\\ASUS\\\\Desktop\\\\uml project'\n",
    "test_dir = 'C:\\\\Users\\\\ASUS\\\\Desktop\\\\uml project'"
   ]
  },
  {
   "cell_type": "code",
   "execution_count": 3,
   "id": "f84e9d60",
   "metadata": {},
   "outputs": [],
   "source": [
    "# Define the image size and batch size\n",
    "img_size = (224, 224)\n",
    "batch_size = 32\n",
    "\n",
    "# Create the data generators for training and testing data\n",
    "train_datagen = ImageDataGenerator(rescale=1./255, shear_range=0.2, zoom_range=0.2, horizontal_flip=True)\n",
    "test_datagen = ImageDataGenerator(rescale=1./255)"
   ]
  },
  {
   "cell_type": "code",
   "execution_count": 4,
   "id": "fad0ae53",
   "metadata": {},
   "outputs": [
    {
     "name": "stdout",
     "output_type": "stream",
     "text": [
      "Found 4200 images belonging to 5 classes.\n"
     ]
    }
   ],
   "source": [
    "train_generator = train_datagen.flow_from_directory(train_dir, target_size=img_size, batch_size=batch_size, class_mode='binary')"
   ]
  },
  {
   "cell_type": "code",
   "execution_count": 5,
   "id": "baaf5202",
   "metadata": {},
   "outputs": [
    {
     "name": "stdout",
     "output_type": "stream",
     "text": [
      "Found 4200 images belonging to 5 classes.\n"
     ]
    }
   ],
   "source": [
    "test_generator = test_datagen.flow_from_directory(test_dir, target_size=img_size, batch_size=batch_size, class_mode='binary')\n"
   ]
  },
  {
   "cell_type": "code",
   "execution_count": 6,
   "id": "4ad77143",
   "metadata": {},
   "outputs": [],
   "source": [
    "# Define the model architecture\n",
    "model = Sequential()\n",
    "model.add(Conv2D(32, (3, 3), activation='relu', input_shape=(img_size[0], img_size[1], 3)))\n",
    "model.add(MaxPooling2D((2, 2)))\n",
    "model.add(Conv2D(64, (3, 3), activation='relu'))\n",
    "model.add(MaxPooling2D((2, 2)))\n",
    "model.add(Conv2D(128, (3, 3), activation='relu'))\n",
    "model.add(MaxPooling2D((2, 2)))\n",
    "model.add(Conv2D(256, (3, 3), activation='relu'))\n",
    "model.add(MaxPooling2D((2, 2)))\n",
    "model.add(Flatten())\n",
    "model.add(Dense(512, activation='relu'))\n",
    "model.add(Dropout(0.5))\n",
    "model.add(Dense(1, activation='sigmoid'))"
   ]
  },
  {
   "cell_type": "code",
   "execution_count": 7,
   "id": "0f203e71",
   "metadata": {},
   "outputs": [],
   "source": [
    "model.compile(optimizer='adam', loss='binary_crossentropy', metrics=['accuracy'])\n",
    "checkpoint_path = 'C:\\\\Users\\\\ASUS\\\\Desktop\\\\uml project'\n"
   ]
  },
  {
   "cell_type": "code",
   "execution_count": 8,
   "id": "e3cff9f0",
   "metadata": {},
   "outputs": [],
   "source": [
    "checkpoint = ModelCheckpoint(checkpoint_path, save_best_only=True, save_weights_only=True, verbose=1)"
   ]
  },
  {
   "cell_type": "code",
   "execution_count": 14,
   "id": "b170d368",
   "metadata": {},
   "outputs": [
    {
     "name": "stdout",
     "output_type": "stream",
     "text": [
      "Epoch 1/10\n",
      "132/132 [==============================] - ETA: 0s - loss: -22475763712.0000 - accuracy: 0.8279\n",
      "Epoch 1: val_loss improved from inf to -221873848320.00000, saving model to C:\\Users\\ASUS\\Desktop\\uml project\n",
      "132/132 [==============================] - 333s 3s/step - loss: -22475763712.0000 - accuracy: 0.8279 - val_loss: -221873848320.0000 - val_accuracy: 0.8333\n",
      "Epoch 2/10\n",
      "132/132 [==============================] - ETA: 0s - loss: -12899908059136.0000 - accuracy: 0.8333\n",
      "Epoch 2: val_loss improved from -221873848320.00000 to -60691272695808.00000, saving model to C:\\Users\\ASUS\\Desktop\\uml project\n",
      "132/132 [==============================] - 314s 2s/step - loss: -12899908059136.0000 - accuracy: 0.8333 - val_loss: -60691272695808.0000 - val_accuracy: 0.8333\n",
      "Epoch 3/10\n",
      "132/132 [==============================] - ETA: 0s - loss: -433144499011584.0000 - accuracy: 0.8333\n",
      "Epoch 3: val_loss improved from -60691272695808.00000 to -1237193649553408.00000, saving model to C:\\Users\\ASUS\\Desktop\\uml project\n",
      "132/132 [==============================] - 324s 2s/step - loss: -433144499011584.0000 - accuracy: 0.8333 - val_loss: -1237193649553408.0000 - val_accuracy: 0.8333\n",
      "Epoch 4/10\n",
      "132/132 [==============================] - ETA: 0s - loss: -4043571049005056.0000 - accuracy: 0.8333\n",
      "Epoch 4: val_loss improved from -1237193649553408.00000 to -9080168601616384.00000, saving model to C:\\Users\\ASUS\\Desktop\\uml project\n",
      "132/132 [==============================] - 333s 3s/step - loss: -4043571049005056.0000 - accuracy: 0.8333 - val_loss: -9080168601616384.0000 - val_accuracy: 0.8333\n",
      "Epoch 5/10\n",
      "132/132 [==============================] - ETA: 0s - loss: -21260998648266752.0000 - accuracy: 0.8333\n",
      "Epoch 5: val_loss improved from -9080168601616384.00000 to -38874178492825600.00000, saving model to C:\\Users\\ASUS\\Desktop\\uml project\n",
      "132/132 [==============================] - 332s 3s/step - loss: -21260998648266752.0000 - accuracy: 0.8333 - val_loss: -38874178492825600.0000 - val_accuracy: 0.8333\n",
      "Epoch 6/10\n",
      "132/132 [==============================] - ETA: 0s - loss: -73490566926565376.0000 - accuracy: 0.8333\n",
      "Epoch 6: val_loss improved from -38874178492825600.00000 to -123460475601027072.00000, saving model to C:\\Users\\ASUS\\Desktop\\uml project\n",
      "132/132 [==============================] - 349s 3s/step - loss: -73490566926565376.0000 - accuracy: 0.8333 - val_loss: -123460475601027072.0000 - val_accuracy: 0.8333\n",
      "Epoch 7/10\n",
      "132/132 [==============================] - ETA: 0s - loss: -205517466468614144.0000 - accuracy: 0.8333\n",
      "Epoch 7: val_loss improved from -123460475601027072.00000 to -314558491316453376.00000, saving model to C:\\Users\\ASUS\\Desktop\\uml project\n",
      "132/132 [==============================] - 346s 3s/step - loss: -205517466468614144.0000 - accuracy: 0.8333 - val_loss: -314558491316453376.0000 - val_accuracy: 0.8333\n",
      "Epoch 8/10\n",
      "132/132 [==============================] - ETA: 0s - loss: -485543991228497920.0000 - accuracy: 0.8333\n",
      "Epoch 8: val_loss improved from -314558491316453376.00000 to -701805696345178112.00000, saving model to C:\\Users\\ASUS\\Desktop\\uml project\n",
      "132/132 [==============================] - 358s 3s/step - loss: -485543991228497920.0000 - accuracy: 0.8333 - val_loss: -701805696345178112.0000 - val_accuracy: 0.8333\n",
      "Epoch 9/10\n",
      "132/132 [==============================] - ETA: 0s - loss: -1012147113892511744.0000 - accuracy: 0.8333\n",
      "Epoch 9: val_loss improved from -701805696345178112.00000 to -1401545272902811648.00000, saving model to C:\\Users\\ASUS\\Desktop\\uml project\n",
      "132/132 [==============================] - 346s 3s/step - loss: -1012147113892511744.0000 - accuracy: 0.8333 - val_loss: -1401545272902811648.0000 - val_accuracy: 0.8333\n",
      "Epoch 10/10\n",
      "132/132 [==============================] - ETA: 0s - loss: -1913101166623850496.0000 - accuracy: 0.8333\n",
      "Epoch 10: val_loss improved from -1401545272902811648.00000 to -2532640921942491136.00000, saving model to C:\\Users\\ASUS\\Desktop\\uml project\n",
      "132/132 [==============================] - 347s 3s/step - loss: -1913101166623850496.0000 - accuracy: 0.8333 - val_loss: -2532640921942491136.0000 - val_accuracy: 0.8333\n"
     ]
    }
   ],
   "source": [
    "epochs = 10\n",
    "history = model.fit(train_generator, epochs=epochs, validation_data=test_generator, callbacks=[checkpoint])"
   ]
  },
  {
   "cell_type": "code",
   "execution_count": 15,
   "id": "fc1931d1",
   "metadata": {},
   "outputs": [
    {
     "name": "stdout",
     "output_type": "stream",
     "text": [
      "132/132 - 47s - loss: -2.5326e+18 - accuracy: 0.8333 - 47s/epoch - 353ms/step\n",
      "Test accuracy: 0.8333333134651184\n"
     ]
    },
    {
     "name": "stderr",
     "output_type": "stream",
     "text": [
      "WARNING:absl:Found untraced functions such as _jit_compiled_convolution_op, _jit_compiled_convolution_op, _jit_compiled_convolution_op, _jit_compiled_convolution_op, _update_step_xla while saving (showing 5 of 5). These functions will not be directly callable after loading.\n"
     ]
    },
    {
     "name": "stdout",
     "output_type": "stream",
     "text": [
      "INFO:tensorflow:Assets written to: C:\\Users\\ASUS\\Desktop\\uml project\\assets\n"
     ]
    },
    {
     "name": "stderr",
     "output_type": "stream",
     "text": [
      "INFO:tensorflow:Assets written to: C:\\Users\\ASUS\\Desktop\\uml project\\assets\n"
     ]
    }
   ],
   "source": [
    "test_loss, test_acc = model.evaluate(test_generator, verbose=2)\n",
    "print('Test accuracy:', test_acc)\n",
    "model.save('C:\\\\Users\\\\ASUS\\\\Desktop\\\\uml project')"
   ]
  },
  {
   "cell_type": "code",
   "execution_count": null,
   "id": "301f5d6f",
   "metadata": {},
   "outputs": [],
   "source": []
  }
 ],
 "metadata": {
  "kernelspec": {
   "display_name": "Python 3 (ipykernel)",
   "language": "python",
   "name": "python3"
  },
  "language_info": {
   "codemirror_mode": {
    "name": "ipython",
    "version": 3
   },
   "file_extension": ".py",
   "mimetype": "text/x-python",
   "name": "python",
   "nbconvert_exporter": "python",
   "pygments_lexer": "ipython3",
   "version": "3.9.13"
  }
 },
 "nbformat": 4,
 "nbformat_minor": 5
}

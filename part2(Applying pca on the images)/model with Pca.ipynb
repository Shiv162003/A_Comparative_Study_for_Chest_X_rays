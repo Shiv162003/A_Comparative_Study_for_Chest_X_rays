{
 "cells": [
  {
   "cell_type": "code",
   "execution_count": 17,
   "id": "3b493d85",
   "metadata": {},
   "outputs": [],
   "source": [
    "import os\n",
    "import numpy as np\n",
    "import tensorflow as tf\n",
    "from tensorflow.keras.preprocessing.image import ImageDataGenerator\n",
    "from tensorflow.keras.layers import Conv2D, MaxPooling2D, Flatten, Dense, Dropout\n",
    "from tensorflow.keras.models import Sequential\n",
    "from tensorflow.keras.callbacks import ModelCheckpoint\n",
    "from tensorflow.keras.layers import BatchNormalization\n",
    "from tensorflow.keras import optimizers\n"
   ]
  },
  {
   "cell_type": "code",
   "execution_count": 18,
   "id": "db9fb8fd",
   "metadata": {},
   "outputs": [],
   "source": [
    "# Set up the directories for the data\n",
    "train_dir = 'C:\\\\Users\\\\ASUS\\\\Desktop\\\\uml project part 3'\n",
    "test_dir = 'C:\\\\Users\\\\ASUS\\\\Desktop\\\\uml project part 3'\n"
   ]
  },
  {
   "cell_type": "code",
   "execution_count": 19,
   "id": "f8b14406",
   "metadata": {},
   "outputs": [],
   "source": [
    "# Define the image size and batch size\n",
    "img_size = (224, 224)\n",
    "batch_size = 32\n",
    "\n",
    "# Create the data generators for training and testing data\n",
    "train_datagen = ImageDataGenerator(rescale=1./255, shear_range=0.2, zoom_range=0.2, horizontal_flip=True)\n",
    "test_datagen = ImageDataGenerator(rescale=1./255)"
   ]
  },
  {
   "cell_type": "code",
   "execution_count": 20,
   "id": "1dd202fe",
   "metadata": {},
   "outputs": [
    {
     "name": "stdout",
     "output_type": "stream",
     "text": [
      "Found 4200 images belonging to 3 classes.\n"
     ]
    }
   ],
   "source": [
    "train_generator = train_datagen.flow_from_directory(train_dir, target_size=img_size, batch_size=batch_size, class_mode='binary')"
   ]
  },
  {
   "cell_type": "code",
   "execution_count": 21,
   "id": "f57258aa",
   "metadata": {},
   "outputs": [
    {
     "name": "stdout",
     "output_type": "stream",
     "text": [
      "Found 4200 images belonging to 3 classes.\n"
     ]
    }
   ],
   "source": [
    "test_generator = test_datagen.flow_from_directory(test_dir, target_size=img_size, batch_size=batch_size, class_mode='binary')\n"
   ]
  },
  {
   "cell_type": "code",
   "execution_count": 24,
   "id": "49b018db",
   "metadata": {},
   "outputs": [
    {
     "name": "stdout",
     "output_type": "stream",
     "text": [
      "Found 0 images belonging to 0 classes.\n"
     ]
    }
   ],
   "source": [
    "val_datagen = ImageDataGenerator(rescale=1./255)\n",
    "validation_dir = 'C:\\\\Users\\\\ASUS\\\\Desktop\\\\uml project part 3\\\\output TB'\n",
    "validation_generator = val_datagen.flow_from_directory(\n",
    "    validation_dir,\n",
    "    target_size=(img_size[0], img_size[1]),\n",
    "    batch_size=batch_size,\n",
    "    class_mode='binary',\n",
    "    shuffle=False\n",
    ")"
   ]
  },
  {
   "cell_type": "code",
   "execution_count": null,
   "id": "9bd3f03e",
   "metadata": {},
   "outputs": [
    {
     "name": "stderr",
     "output_type": "stream",
     "text": [
      "WARNING:absl:`lr` is deprecated in Keras optimizer, please use `learning_rate` or use the legacy optimizer, e.g.,tf.keras.optimizers.legacy.RMSprop.\n"
     ]
    },
    {
     "name": "stdout",
     "output_type": "stream",
     "text": [
      "Epoch 1/30\n",
      "132/132 [==============================] - 347s 3s/step - loss: -19791.9570 - accuracy: 0.8262\n",
      "Epoch 2/30\n",
      "132/132 [==============================] - 345s 3s/step - loss: -146675.6250 - accuracy: 0.8331\n",
      "Epoch 3/30\n",
      "132/132 [==============================] - 345s 3s/step - loss: -443758.8750 - accuracy: 0.8331\n",
      "Epoch 4/30\n",
      "132/132 [==============================] - 348s 3s/step - loss: -995123.9375 - accuracy: 0.8333\n",
      "Epoch 5/30\n",
      "132/132 [==============================] - 345s 3s/step - loss: -1862533.5000 - accuracy: 0.8333\n",
      "Epoch 6/30\n",
      "132/132 [==============================] - 347s 3s/step - loss: -3178957.5000 - accuracy: 0.8333\n",
      "Epoch 7/30\n",
      "132/132 [==============================] - 345s 3s/step - loss: -4989103.0000 - accuracy: 0.8333\n",
      "Epoch 8/30\n",
      "132/132 [==============================] - 346s 3s/step - loss: -7187405.5000 - accuracy: 0.8333\n",
      "Epoch 9/30\n",
      "132/132 [==============================] - 344s 3s/step - loss: -10126004.0000 - accuracy: 0.8333\n",
      "Epoch 10/30\n",
      "132/132 [==============================] - 368s 3s/step - loss: -13671739.0000 - accuracy: 0.8333\n",
      "Epoch 11/30\n",
      "132/132 [==============================] - 357s 3s/step - loss: -18029238.0000 - accuracy: 0.8333\n",
      "Epoch 12/30\n",
      "132/132 [==============================] - 345s 3s/step - loss: -23133702.0000 - accuracy: 0.8333\n",
      "Epoch 13/30\n",
      "132/132 [==============================] - 347s 3s/step - loss: -29308930.0000 - accuracy: 0.8333\n",
      "Epoch 14/30\n",
      "132/132 [==============================] - 345s 3s/step - loss: -36689676.0000 - accuracy: 0.8333\n",
      "Epoch 15/30\n",
      "132/132 [==============================] - 349s 3s/step - loss: -44514356.0000 - accuracy: 0.8333\n",
      "Epoch 16/30\n",
      "132/132 [==============================] - 361s 3s/step - loss: -54740996.0000 - accuracy: 0.8333\n",
      "Epoch 17/30\n",
      "132/132 [==============================] - 423s 3s/step - loss: -64340360.0000 - accuracy: 0.8333\n",
      "Epoch 18/30\n",
      " 87/132 [==================>...........] - ETA: 2:04 - loss: -73410520.0000 - accuracy: 0.8366"
     ]
    }
   ],
   "source": [
    "img_shape = (img_size[0], img_size[1], 3)\n",
    "# Define the model architecture\n",
    "model = Sequential()\n",
    "model.add(Conv2D(32, (3, 3), activation='relu', input_shape=img_shape))\n",
    "model.add(BatchNormalization())\n",
    "model.add(MaxPooling2D((2, 2)))\n",
    "model.add(Conv2D(64, (3, 3), activation='relu'))\n",
    "model.add(BatchNormalization())\n",
    "model.add(MaxPooling2D((2, 2)))\n",
    "model.add(Conv2D(128, (3, 3), activation='relu'))\n",
    "model.add(BatchNormalization())\n",
    "model.add(MaxPooling2D((2, 2)))\n",
    "model.add(Conv2D(256, (3, 3), activation='relu'))\n",
    "model.add(BatchNormalization())\n",
    "model.add(MaxPooling2D((2, 2)))\n",
    "model.add(Flatten())\n",
    "model.add(Dense(512, activation='relu'))\n",
    "model.add(Dropout(0.5))\n",
    "model.add(Dense(1, activation='sigmoid'))\n",
    "\n",
    "model.compile(optimizer=optimizers.RMSprop(lr=2e-5), loss='binary_crossentropy', metrics=['accuracy'])\n",
    "\n",
    "model.fit(train_generator, epochs=30, validation_data=validation_generator)\n"
   ]
  },
  {
   "cell_type": "code",
   "execution_count": 8,
   "id": "d28f82e4",
   "metadata": {},
   "outputs": [],
   "source": [
    "model.compile(optimizer='adam', loss='binary_crossentropy', metrics=['accuracy'])\n",
    "checkpoint_path = 'C:\\\\Users\\\\ASUS\\\\Desktop\\\\uml project part 3'\n"
   ]
  },
  {
   "cell_type": "code",
   "execution_count": 9,
   "id": "45e0ad4d",
   "metadata": {},
   "outputs": [],
   "source": [
    "checkpoint = ModelCheckpoint(checkpoint_path, save_best_only=True, save_weights_only=True, verbose=1)"
   ]
  },
  {
   "cell_type": "code",
   "execution_count": null,
   "id": "119f84bb",
   "metadata": {},
   "outputs": [
    {
     "name": "stdout",
     "output_type": "stream",
     "text": [
      "Epoch 1/5\n",
      "132/132 [==============================] - ETA: 0s - loss: -17703247872.0000 - accuracy: 0.8321\n",
      "Epoch 1: val_loss improved from inf to -161343488000.00000, saving model to C:\\Users\\ASUS\\Desktop\\uml project part 3\n",
      "132/132 [==============================] - 320s 2s/step - loss: -17703247872.0000 - accuracy: 0.8321 - val_loss: -161343488000.0000 - val_accuracy: 0.8333\n",
      "Epoch 2/5\n",
      "132/132 [==============================] - ETA: 0s - loss: -9464083120128.0000 - accuracy: 0.8333\n",
      "Epoch 2: val_loss improved from -161343488000.00000 to -42105137266688.00000, saving model to C:\\Users\\ASUS\\Desktop\\uml project part 3\n",
      "132/132 [==============================] - 296s 2s/step - loss: -9464083120128.0000 - accuracy: 0.8333 - val_loss: -42105137266688.0000 - val_accuracy: 0.8333\n",
      "Epoch 3/5\n",
      "132/132 [==============================] - ETA: 0s - loss: -284108865404928.0000 - accuracy: 0.8333\n",
      "Epoch 3: val_loss improved from -42105137266688.00000 to -812535737483264.00000, saving model to C:\\Users\\ASUS\\Desktop\\uml project part 3\n",
      "132/132 [==============================] - 307s 2s/step - loss: -284108865404928.0000 - accuracy: 0.8333 - val_loss: -812535737483264.0000 - val_accuracy: 0.8333\n",
      "Epoch 4/5\n",
      " 27/132 [=====>........................] - ETA: 3:27 - loss: -1108396707151872.0000 - accuracy: 0.8206"
     ]
    }
   ],
   "source": [
    "epochs = 5\n",
    "history = model.fit(train_generator, epochs=epochs, validation_data=test_generator, callbacks=[checkpoint])"
   ]
  },
  {
   "cell_type": "code",
   "execution_count": null,
   "id": "1175aab1",
   "metadata": {},
   "outputs": [],
   "source": [
    "test_loss, test_acc = model.evaluate(test_generator, verbose=2)\n",
    "print('Test accuracy:', test_acc)\n",
    "model.save('C:\\\\Users\\\\ASUS\\\\Desktop\\\\uml project part 3')\n",
    "\n",
    "\n"
   ]
  },
  {
   "cell_type": "code",
   "execution_count": null,
   "id": "72c5af6b",
   "metadata": {},
   "outputs": [],
   "source": []
  }
 ],
 "metadata": {
  "kernelspec": {
   "display_name": "Python 3 (ipykernel)",
   "language": "python",
   "name": "python3"
  },
  "language_info": {
   "codemirror_mode": {
    "name": "ipython",
    "version": 3
   },
   "file_extension": ".py",
   "mimetype": "text/x-python",
   "name": "python",
   "nbconvert_exporter": "python",
   "pygments_lexer": "ipython3",
   "version": "3.9.13"
  }
 },
 "nbformat": 4,
 "nbformat_minor": 5
}

{
 "cells": [
  {
   "cell_type": "code",
   "execution_count": 6,
   "id": "d4bbab8d",
   "metadata": {},
   "outputs": [],
   "source": [
    "np.save('C:\\\\Users\\\\ASUS\\\\Desktop\\\\uml project part 4 svd\\\\svd tb', tb_svd)\n",
    "np.save('C:\\\\Users\\\\ASUS\\\\Desktop\\\\uml project part 4 svd\\\\svd normal', normal_svd)\n",
    "\n",
    "\n"
   ]
  },
  {
   "cell_type": "code",
   "execution_count": 1,
   "id": "665299a5",
   "metadata": {},
   "outputs": [],
   "source": [
    "import numpy as np\n",
    "import cv2\n",
    "import os\n",
    "\n",
    "# define the folders containing the images\n",
    "normal_path = 'C:\\\\Users\\\\ASUS\\\\Desktop\\\\uml project part 4 svd\\\\Normal'\n",
    "tb_path = 'C:\\\\Users\\\\ASUS\\\\Desktop\\\\uml project part 4 svd\\\\Tuberculosis'\n",
    "\n",
    "# define the output folders for SVD transformed images\n",
    "svd_normal_folder = 'C:\\\\Users\\\\ASUS\\\\Desktop\\\\uml project part 4 svd\\\\svd normal'\n",
    "svd_tb_folder = 'C:\\\\Users\\\\ASUS\\\\Desktop\\\\uml project part 4 svd\\\\svd tb'\n",
    "\n",
    "# define the number of singular values to keep\n",
    "num_svd = 10\n",
    "\n",
    "# function to apply SVD to an image and save it\n",
    "def apply_svd(img_path, output_folder):\n",
    "    img = cv2.imread(img_path, 0)\n",
    "    U, S, V = np.linalg.svd(img)\n",
    "    S[num_svd:] = 0\n",
    "    img_svd = U.dot(np.diag(S)).dot(V)\n",
    "    img_svd = np.uint8(img_svd)\n",
    "    filename = os.path.basename(img_path)\n",
    "    cv2.imwrite(os.path.join(output_folder, filename), img_svd)\n",
    "\n",
    "# apply SVD to normal images and save them\n",
    "for img_path in os.listdir(normal_path):\n",
    "    if img_path.endswith('.png') or img_path.endswith('.jpg'):\n",
    "        img_path = os.path.join(normal_path, img_path)\n",
    "        apply_svd(img_path, svd_normal_folder)\n",
    "\n",
    "# apply SVD to TB images and save them\n",
    "for img_path in os.listdir(tb_path):\n",
    "    if img_path.endswith('.png') or img_path.endswith('.jpg'):\n",
    "        img_path = os.path.join(tb_path, img_path)\n",
    "        apply_svd(img_path, svd_tb_folder)"
   ]
  },
  {
   "cell_type": "code",
   "execution_count": null,
   "id": "c948b7ea",
   "metadata": {},
   "outputs": [],
   "source": []
  }
 ],
 "metadata": {
  "kernelspec": {
   "display_name": "Python 3 (ipykernel)",
   "language": "python",
   "name": "python3"
  },
  "language_info": {
   "codemirror_mode": {
    "name": "ipython",
    "version": 3
   },
   "file_extension": ".py",
   "mimetype": "text/x-python",
   "name": "python",
   "nbconvert_exporter": "python",
   "pygments_lexer": "ipython3",
   "version": "3.9.13"
  }
 },
 "nbformat": 4,
 "nbformat_minor": 5
}
